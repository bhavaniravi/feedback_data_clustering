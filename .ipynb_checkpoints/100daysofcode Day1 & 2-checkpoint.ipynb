{
 "cells": [
  {
   "cell_type": "markdown",
   "metadata": {},
   "source": [
    "# Clustering workshop feedback"
   ]
  },
  {
   "cell_type": "code",
   "execution_count": 7,
   "metadata": {},
   "outputs": [],
   "source": [
    "# removes timestamp and email field from the data\n",
    "def get_required_data(dataset):\n",
    "    return dataset.iloc[:,2:]"
   ]
  },
  {
   "cell_type": "markdown",
   "metadata": {},
   "source": [
    "### Sentiment classification using Textblob"
   ]
  },
  {
   "cell_type": "code",
   "execution_count": 8,
   "metadata": {},
   "outputs": [],
   "source": [
    "from textblob import TextBlob\n",
    "\n",
    "def get_sentiment(text):\n",
    "    '''\n",
    "    Utility function to classify sentiment of passed feedback text\n",
    "    using textblob's sentiment method\n",
    "    '''\n",
    "    # create TextBlob object of passed tweet text\n",
    "    analysis = TextBlob(text)\n",
    "    # set sentiment\n",
    "    if analysis.sentiment.polarity > 0:\n",
    "        return 'positive'\n",
    "    elif analysis.sentiment.polarity == 0:\n",
    "        return 'neutral'\n",
    "    else:\n",
    "        return 'negative'"
   ]
  },
  {
   "cell_type": "markdown",
   "metadata": {},
   "source": [
    "### Importing required libraries"
   ]
  },
  {
   "cell_type": "code",
   "execution_count": 2,
   "metadata": {},
   "outputs": [],
   "source": [
    "import numpy as np\n",
    "import matplotlib.pyplot as plt\n",
    "import pandas as pd"
   ]
  },
  {
   "cell_type": "markdown",
   "metadata": {},
   "source": [
    "### Importing data"
   ]
  },
  {
   "cell_type": "code",
   "execution_count": 3,
   "metadata": {},
   "outputs": [],
   "source": [
    "dataset = pd.read_csv('feedback_data.csv')\n",
    "X = dataset"
   ]
  },
  {
   "cell_type": "markdown",
   "metadata": {},
   "source": [
    "### Preprocess data"
   ]
  },
  {
   "cell_type": "code",
   "execution_count": 4,
   "metadata": {},
   "outputs": [],
   "source": [
    "sentiment_index = [4,7,8,9,10,11] # data index that needs to be passed through sentiment index\n",
    "categorical_coloum_index = [2,3,5,6] + sentiment_index # categorical type data"
   ]
  },
  {
   "cell_type": "markdown",
   "metadata": {},
   "source": [
    "#### missing data"
   ]
  },
  {
   "cell_type": "code",
   "execution_count": 5,
   "metadata": {},
   "outputs": [],
   "source": [
    "X.iloc[:,sentiment_index] = X.iloc[:,sentiment_index].replace(np.nan, '', regex=True)"
   ]
  },
  {
   "cell_type": "markdown",
   "metadata": {},
   "source": [
    "#### Converting text data to sentiment categories"
   ]
  },
  {
   "cell_type": "code",
   "execution_count": 9,
   "metadata": {},
   "outputs": [
    {
     "name": "stdout",
     "output_type": "stream",
     "text": [
      "flask\n",
      "to learn python \n",
      "how to write python basic codes, crating new modules, and functions\n",
      "Basics about python\n",
      "\n",
      "Basics and Turtle library basics\n",
      "\n",
      "\n",
      "built a base on the basics of programming with python\n",
      "\n",
      "\n",
      "\n",
      "\n",
      "\n",
      "the knowledge of python in the back end for web pages \n",
      "\n",
      "Basics about python program.\n",
      "\n",
      "\n",
      "basics of python coding  for create  web server for our project.\n",
      "\n",
      "python,flask\n",
      "Fast teach\n",
      "To learn to create web apps using Flask,Django..etc\n",
      "web page development using GET and POST\n",
      "Full of the session was pretty interested, the functions and the introduction was so much i like.\n",
      "completed basics with turtle\n",
      "web app\n",
      "it was really interactive with al the tasks\n",
      "Trail and error method\n",
      "\n",
      "Basics and turtle\n",
      "active participation\n",
      "more part is covered\n",
      "More hands on\n",
      "\n",
      "\n",
      "\n",
      "\n",
      "very interactive\n",
      "More examples and trial and error learning \n",
      "To create an own module\n",
      "Teaching metrology\n",
      "programming design\n",
      "web app\n",
      "\n",
      "learn more about python and to create a web application\n",
      "hands on training\n",
      "Python\n",
      "Turtle Graphics and HTML\n",
      "\n",
      "turtle exercises are so interested. \n",
      "\n",
      "more topics to covered\n",
      "more tasks will make it more interesting and bring excitement asell\n",
      "Timing\n",
      "\n",
      "make sure that everyone knows the basics well\n",
      "not from the basic level\n",
      "\n",
      "could have mentioned some advanced programs to show the capability of python\n",
      "\n",
      "\n",
      "more handson\n",
      "on day one its better to provide with a small road map on concepts to be covered. this will give a better idea on follow up. \n",
      "start from basic level\n",
      "The topics can be covered in shorter time \n",
      "\n",
      "To have some relaxation at small intervals.\n",
      "start from very basic  \n",
      "It will be good if open cv is added\n",
      "Not interesting.Its like boring sometimes when speaking with same tone.Speak loudly and change your tone depends on the words you speak.That will make students become more interactive.\n",
      "some more excercises to be done\n",
      "speed of teaching\n",
      "Practice is need for us \n",
      "some concepts have to be explained better by showing examples.\n",
      "more interaction required\n",
      "Give some break for refresh.\n",
      "\n",
      "about the flask in python\n",
      "\n",
      "Classes\n",
      "\n",
      "web apps\n",
      "nil\n",
      "\n",
      "importing dictionaries and files\n",
      "\n",
      "\n",
      "\n",
      "local server access part\n",
      "flask session\n",
      "classes and modules \n",
      "Counter concept\n",
      "nill\n",
      "library usage\n",
      "modules\n",
      "Nothing difficult but we make many mistakes so it will take time to work on the program\n",
      "no\n",
      "syntax and technical parts\n",
      "Web app development\n",
      "creating modules\n",
      "string commands in flask \n",
      "2nd day afternoon's session\n",
      "\n",
      "\n",
      "\n",
      "No\n",
      "\n",
      "was nice, but not that good for beginners\n",
      "\n",
      "\n",
      "\n",
      "\n",
      "\n",
      "\n",
      "\n",
      "nil\n",
      "The workshop could cover the creation of webapps too \n",
      "Try to cover more python tasks \n",
      "Need an hardware interfacing.\n",
      "no\n",
      "\n",
      "Agenda was good but add too more features to work on...\n",
      "\n",
      "no\n",
      "No comments\n",
      "need more contents.\n",
      "no\n",
      "it's really helpful to know the new things, and how to solve the problems with python simply.\n",
      "\n",
      "its was good\n",
      "\n",
      "Was awesome\n",
      "very good\n",
      "Super\n",
      "\n",
      "good\n",
      "\n",
      "\n",
      "\n",
      "\n",
      "good \n",
      "good\n",
      "\n",
      "The overall session was useful and all the basics were explained well \n",
      "Good\n",
      "Excellent\n",
      "no\n",
      "good\n",
      "Good\n",
      "session is more useful and good\n",
      "nil\n",
      "Nice\n",
      "could be better\n",
      "Good one\n",
      "thank you for the sessions...it's really helpful.\n"
     ]
    }
   ],
   "source": [
    "for i in sentiment_index:\n",
    "    X.iloc[:, i] = pd.DataFrame({X.columns[i]:list(map(get_sentiment,X.iloc[:, i]))})"
   ]
  },
  {
   "cell_type": "markdown",
   "metadata": {},
   "source": [
    "#### Encoding categorical data"
   ]
  },
  {
   "cell_type": "code",
   "execution_count": null,
   "metadata": {},
   "outputs": [],
   "source": [
    "from sklearn.preprocessing import LabelEncoder, OneHotEncoder\n",
    "\n",
    "for i in categorical_coloum_index:\n",
    "    labelencoder_X = LabelEncoder()\n",
    "    X.iloc[:, i] = labelencoder_X.fit_transform(X.iloc[:, i])\n",
    "\n",
    "X_values = X.iloc[:,2:]\n",
    "onehotencoder = OneHotEncoder(categorical_features = sorted(list(map(lambda x: x-2,categorical_coloum_index))))\n",
    "X_values = onehotencoder.fit_transform(X_values).toarray()"
   ]
  },
  {
   "cell_type": "markdown",
   "metadata": {},
   "source": [
    "### Clustering using KNN Algorithm"
   ]
  },
  {
   "cell_type": "code",
   "execution_count": null,
   "metadata": {},
   "outputs": [],
   "source": [
    "from sklearn.cluster import KMeans\n",
    "\n",
    "kmeans = KMeans(n_clusters=2, random_state=0)\n",
    "kmeans.fit(X_values)\n",
    "y_kmeans = kmeans.predict(X_values)"
   ]
  }
 ],
 "metadata": {
  "kernelspec": {
   "display_name": "Python mlandds",
   "language": "python",
   "name": "mlandds"
  },
  "language_info": {
   "codemirror_mode": {
    "name": "ipython",
    "version": 3
   },
   "file_extension": ".py",
   "mimetype": "text/x-python",
   "name": "python",
   "nbconvert_exporter": "python",
   "pygments_lexer": "ipython3",
   "version": "3.5.2"
  }
 },
 "nbformat": 4,
 "nbformat_minor": 2
}
